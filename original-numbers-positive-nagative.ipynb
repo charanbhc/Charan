{
  "nbformat": 4,
  "nbformat_minor": 0,
  "metadata": {
    "colab": {
      "name": "Untitled5.ipynb",
      "provenance": [],
      "authorship_tag": "ABX9TyPxqA8cB55ABlFcjYqCmLmf",
      "include_colab_link": true
    },
    "kernelspec": {
      "name": "python3",
      "display_name": "Python 3"
    },
    "language_info": {
      "name": "python"
    }
  },
  "cells": [
    {
      "cell_type": "markdown",
      "metadata": {
        "id": "view-in-github",
        "colab_type": "text"
      },
      "source": [
        "<a href=\"https://colab.research.google.com/github/charanbhc/Charan/blob/main/original-numbers-positive-nagative.ipynb\" target=\"_parent\"><img src=\"https://colab.research.google.com/assets/colab-badge.svg\" alt=\"Open In Colab\"/></a>"
      ]
    },
    {
      "cell_type": "code",
      "metadata": {
        "id": "3gkamJ9Xuwxe"
      },
      "source": [
        "numbers = [-121,3,2,0,-1,-1111-1111,3,-3,37,-42,0,777*0,22/2,49]\n",
        "print(\"list of numbers are :\")\n",
        "print(numbers)\n",
        "print(\"positive numbers from the list :\")\n",
        "positive_numbers = list(filter(lambda x: x>0, numbers))\n",
        "print(positive_numbers)\n",
        "print(\"negative numbers from the list :\")\n",
        "negative_numbers = list(filter(lambda x: x<0, numbers))\n",
        "print(negative_numbers)\n"
      ],
      "execution_count": null,
      "outputs": []
    }
  ]
}